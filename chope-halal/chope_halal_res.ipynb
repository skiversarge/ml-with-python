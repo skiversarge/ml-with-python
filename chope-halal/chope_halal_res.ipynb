{
  "cells": [
    {
      "cell_type": "code",
      "metadata": {},
      "source": [
        "import requests\n",
        "import pandas\n",
        "\n",
        "from bs4 import BeautifulSoup\n",
        "\n",
        "response = requests.get(\"https://www.chope.co/singapore-restaurants/pages/halalrestaurantguide\")\n",
        "content = response.content\n",
        "print(content)\n",
        "soup = BeautifulSoup(content, \"html.parser\")\n",
        "\n",
        "top_rest = soup.find_all(\"div\", attrs={\"id\": \"custom-page\"})\n",
        "list_tr = top_rest[0].find_all(\"div\", attrs={\"class\": \"col-md-4\"})\n",
        "\n",
        "list_rest = []\n",
        "for tr in list_tr:\n",
        "    df = {}\n",
        "    df[\"rest_name\"] = (tr.find(\"h2\", attrs={\"class\": \"restlinks\"})).text\n",
        "    hyperlink = (tr.find(\"a\")[\"href\"])\n",
        "\n",
        "    response_ind = requests.get(hyperlink)\n",
        "    content_ind = response_ind.content\n",
        "    soup_ind = BeautifulSoup(content_ind, \"html.parser\")\n",
        "\n",
        "    top_rest_ind = soup_ind.find_all(\"ul\", attrs={\"class\": \"col-xs-12 col-sm-6\"})\n",
        "    first_li = top_rest_ind[0].find_all(\"li\")\n",
        "    sec_li = top_rest_ind[1].find_all(\"li\")\n",
        "    df[\"cuisine\"] = first_li[0].find(\"p\").text.replace('\\n', '').replace(\n",
        "        '                                                  ', '')\n",
        "    if len(first_li) < 5:\n",
        "        df[\"hours\"] = first_li[1].find(\"p\").text.replace('\\n', '').replace('                        ', '').replace(\n",
        "            '\u00c0 La Carte', '')\n",
        "        df[\"good_for\"] = first_li[3].find(\"p\").text.replace('\\n', '')\n",
        "    else:\n",
        "        df[\"hours\"] = first_li[2].find(\"p\").text.replace('\\n', '').replace('                        ', '').replace(\n",
        "            '\u00c0 La Carte', '')\n",
        "        df[\"good_for\"] = first_li[4].find(\"p\").text.replace('\\n', '')\n",
        "    df[\"location\"] = sec_li[0].find(\"p\").text.replace('\\n', '')\n",
        "    df[\"address\"] = sec_li[1].find(\"p\").text.replace('Map', '').replace('\\n', '').replace('                        ',\n",
        "                                                                                          '')\n",
        "\n",
        "    list_rest.append(df)\n",
        "\n",
        "print(list_rest)\n",
        "\n",
        "df = pandas.DataFrame(list_rest)\n",
        "df.to_csv(\"chope_halal_res.csv\",index=False)\n"
      ],
      "outputs": [],
      "execution_count": null
    }
  ],
  "metadata": {
    "anaconda-cloud": {},
    "kernelspec": {
      "display_name": "Python 3",
      "language": "python",
      "name": "python3"
    },
    "language_info": {
      "codemirror_mode": {
        "name": "ipython",
        "version": 3
      },
      "file_extension": ".py",
      "mimetype": "text/x-python",
      "name": "python",
      "nbconvert_exporter": "python",
      "pygments_lexer": "ipython3",
      "version": "3.6.1"
    }
  },
  "nbformat": 4,
  "nbformat_minor": 4
}